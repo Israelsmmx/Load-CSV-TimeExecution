{
 "cells": [
  {
   "cell_type": "markdown",
   "id": "74a963f9-029b-47b1-9694-48ed5524f2f2",
   "metadata": {},
   "source": [
    "# How manage volume of data "
   ]
  },
  {
   "cell_type": "code",
   "execution_count": 68,
   "id": "97f683ad-264d-4557-bd0d-76626ddb6525",
   "metadata": {},
   "outputs": [],
   "source": [
    "import pandas as pd\n",
    "import gc\n",
    "s_pathFile = \"../datos/sap/SAPx58_SYS_TABLE_COLUMNS.csv\"\n",
    "s_PickleFile = \"../datos/sap/SAPx58_SYS_TABLE_COLUMNS.pickle\"\n",
    "s_ParqueteFile = \"../datos/sap/SAPx58_SYS_TABLE_COLUMNS.parquete\"\n",
    "## 196M of size\n",
    "#  -rw-r--r-- 1 krump krump 196M May 16 21:02 SAPD58_SYS_TABLE_COLUMNS.csv"
   ]
  },
  {
   "cell_type": "markdown",
   "id": "358d9f0b-f303-4fa7-b849-0e612719175a",
   "metadata": {},
   "source": [
    "# Part 1 - Basic load , Clasic CSV Load & Other formats as reference"
   ]
  },
  {
   "cell_type": "markdown",
   "id": "55b7e07b-8dbe-4db7-bb4e-8c299e7a6a04",
   "metadata": {},
   "source": [
    "## Using Low Memory = False for low latency"
   ]
  },
  {
   "cell_type": "code",
   "execution_count": 60,
   "id": "34ba068e-ccd6-4122-ae3a-3085c4b41d03",
   "metadata": {},
   "outputs": [
    {
     "name": "stdout",
     "output_type": "stream",
     "text": [
      "CPU times: user 1.38 s, sys: 190 ms, total: 1.57 s\n",
      "Wall time: 1.57 s\n"
     ]
    }
   ],
   "source": [
    "%%time\n",
    "df_col_tables = pd.read_csv( s_pathFile , index_col=0, low_memory = False)"
   ]
  },
  {
   "cell_type": "markdown",
   "id": "38e0384d-e7d8-4b59-8061-f073c67f2ca2",
   "metadata": {},
   "source": [
    "#### Sample CSV vs Parquete"
   ]
  },
  {
   "cell_type": "code",
   "execution_count": 65,
   "id": "51955f27-19ef-41de-8d5a-7ef8ac851eb3",
   "metadata": {},
   "outputs": [
    {
     "name": "stdout",
     "output_type": "stream",
     "text": [
      "CPU times: user 157 ms, sys: 149 ms, total: 306 ms\n",
      "Wall time: 306 ms\n",
      "CPU times: user 196 ms, sys: 61.8 ms, total: 257 ms\n",
      "Wall time: 257 ms\n"
     ]
    }
   ],
   "source": [
    "%time df_col_tables.to_pickle(s_ParqueteFile)\n",
    "%time df_col_tables = pd.read_pickle(s_ParqueteFile)"
   ]
  },
  {
   "cell_type": "markdown",
   "id": "711cb4c2-f65e-4ce0-9bde-345c076ef3ee",
   "metadata": {},
   "source": [
    "#### Sample CSV vs Pickle"
   ]
  },
  {
   "cell_type": "code",
   "execution_count": 66,
   "id": "8169692a-d68e-435b-be44-277976ec4d88",
   "metadata": {},
   "outputs": [
    {
     "name": "stdout",
     "output_type": "stream",
     "text": [
      "CPU times: user 204 ms, sys: 94.8 ms, total: 299 ms\n",
      "Wall time: 298 ms\n",
      "CPU times: user 180 ms, sys: 69.9 ms, total: 250 ms\n",
      "Wall time: 250 ms\n"
     ]
    }
   ],
   "source": [
    "%time df_col_tables.to_pickle(s_PickleFile)\n",
    "%time df_col_tables = pd.read_pickle(s_PickleFile)"
   ]
  },
  {
   "cell_type": "markdown",
   "id": "eb46e386-53ae-43bc-a0b3-af996e01caf6",
   "metadata": {},
   "source": [
    "## Using Python Engine option, It Takes more time"
   ]
  },
  {
   "cell_type": "code",
   "execution_count": 8,
   "id": "012806d2-d03c-408e-a09e-3798edae24cb",
   "metadata": {},
   "outputs": [
    {
     "name": "stdout",
     "output_type": "stream",
     "text": [
      "CPU times: user 10.2 s, sys: 380 ms, total: 10.6 s\n",
      "Wall time: 10.6 s\n"
     ]
    }
   ],
   "source": [
    "%%time\n",
    "df_col_tables = pd.read_csv( s_pathFile , index_col=0, engine='python')\n"
   ]
  },
  {
   "cell_type": "markdown",
   "id": "1d90b901-a709-4ab3-bad6-0f66432ad89c",
   "metadata": {},
   "source": [
    "## **Conclusion**\n",
    "\n",
    "Using the next settings with **low_memory = False** can result in a better time execution\n",
    "\n",
    "    df_col_tables = pd.read_csv( s_pathFile , index_col=0, low_memory = False)\\\n",
    "\n",
    "Using the next settings with **lengine='python'** takes more time, also is not possible to combine options\n",
    "\n",
    "    df_col_tables = pd.read_csv( s_pathFile , index_col=0, engine='python')\n",
    "\n",
    "**notes**\n",
    "\n",
    "But in comparison pickle and parquete format are more efficient in terms of the read processes  but not necessary in storage process\n",
    "\n",
    "* Parquete normally is used for long term storage\n",
    "* Pickle normally I used for quick and short storage\n",
    "\n",
    "rw-r--r-- 1 krump krump 196M May 16 21:02 SAPX58_SYS_TABLE_COLUMNS.csv\n",
    "rw-r--r-- 1 krump users 278M Jun 25 13:32 SAPX58_SYS_TABLE_COLUMNS.parquete\r",
    "-rw-r--r-- 1 krump users 278M Jun 25 13:32 SAXD58_SYS_TABLE_COLUMNS.pickle\n"
   ]
  },
  {
   "cell_type": "code",
   "execution_count": 67,
   "id": "85d399fd-da5e-4de6-8655-44e2b645431a",
   "metadata": {},
   "outputs": [
    {
     "name": "stderr",
     "output_type": "stream",
     "text": [
      "UsageError: %%time is a cell magic, but the cell body is empty. Did you mean the line magic %time (single %)?\n"
     ]
    }
   ],
   "source": [
    "%%time df_col_tables"
   ]
  },
  {
   "cell_type": "markdown",
   "id": "468580ac-5acf-4789-99a6-1ff40e6272e5",
   "metadata": {},
   "source": [
    "### Drop all rows"
   ]
  },
  {
   "cell_type": "code",
   "execution_count": 32,
   "id": "ca14a9dd-eff9-4c4f-b62c-5d147279a78c",
   "metadata": {},
   "outputs": [
    {
     "data": {
      "text/plain": [
       "29"
      ]
     },
     "execution_count": 32,
     "metadata": {},
     "output_type": "execute_result"
    }
   ],
   "source": [
    "df_col_tables.drop(df_col_tables.index, inplace=True)\n",
    "df_col_tables\n",
    "gc.collect()"
   ]
  },
  {
   "cell_type": "markdown",
   "id": "2e65555f-9766-4a96-a287-e2cbb497a3e9",
   "metadata": {},
   "source": [
    "# Part 2 load in parts\n",
    "\n",
    "This could take more time, but consider the file split and possible process in parts instead of big block of data"
   ]
  },
  {
   "cell_type": "code",
   "execution_count": 42,
   "id": "25f4a115-d4c0-4451-b78b-5a0c8691aff7",
   "metadata": {},
   "outputs": [
    {
     "name": "stdout",
     "output_type": "stream",
     "text": [
      "CPU times: user 1min 2s, sys: 36.5 s, total: 1min 39s\n",
      "Wall time: 1min 39s\n"
     ]
    }
   ],
   "source": [
    "%%time\n",
    "part = 0 \n",
    "for chunk in pd.read_csv( s_pathFile , index_col=0, engine='python',  chunksize = 10000 , iterator=True):\n",
    "    #print('part ', part , len(chunk))\n",
    "    df_col_tables = pd.concat([df_col_tables, chunk] )\n",
    "    #part = part + 1"
   ]
  },
  {
   "cell_type": "code",
   "execution_count": 34,
   "id": "7e578ce1-582f-4190-9a22-a8f890bd04d4",
   "metadata": {},
   "outputs": [
    {
     "name": "stdout",
     "output_type": "stream",
     "text": [
      "CPU times: user 2 µs, sys: 0 ns, total: 2 µs\n",
      "Wall time: 3.1 µs\n"
     ]
    },
    {
     "data": {
      "text/html": [
       "<div>\n",
       "<style scoped>\n",
       "    .dataframe tbody tr th:only-of-type {\n",
       "        vertical-align: middle;\n",
       "    }\n",
       "\n",
       "    .dataframe tbody tr th {\n",
       "        vertical-align: top;\n",
       "    }\n",
       "\n",
       "    .dataframe thead th {\n",
       "        text-align: right;\n",
       "    }\n",
       "</style>\n",
       "<table border=\"1\" class=\"dataframe\">\n",
       "  <thead>\n",
       "    <tr style=\"text-align: right;\">\n",
       "      <th></th>\n",
       "      <th>SCHEMA_NAME</th>\n",
       "      <th>TABLE_NAME</th>\n",
       "      <th>TABLE_OID</th>\n",
       "      <th>COLUMN_NAME</th>\n",
       "      <th>POSITION</th>\n",
       "      <th>DATA_TYPE_ID</th>\n",
       "      <th>DATA_TYPE_NAME</th>\n",
       "      <th>OFFSET</th>\n",
       "      <th>LENGTH</th>\n",
       "      <th>SCALE</th>\n",
       "      <th>...</th>\n",
       "      <th>IS_CACHE_KEY</th>\n",
       "      <th>ROW_ORDER_POSITION</th>\n",
       "      <th>IS_HIDDEN</th>\n",
       "      <th>IS_MASKED</th>\n",
       "      <th>MASK_EXPRESSION</th>\n",
       "      <th>CLIENTSIDE_ENCRYPTION_STATUS</th>\n",
       "      <th>CLIENTSIDE_ENCRYPTION_COLUMN_KEY_ID</th>\n",
       "      <th>CLIENTSIDE_ENCRYPTION_MODE</th>\n",
       "      <th>PERSISTENT_MEMORY</th>\n",
       "      <th>NUMA_NODE_INDEXES</th>\n",
       "    </tr>\n",
       "  </thead>\n",
       "  <tbody>\n",
       "    <tr>\n",
       "      <th>0</th>\n",
       "      <td>SYS</td>\n",
       "      <td>AFL_PACKAGES_</td>\n",
       "      <td>131325</td>\n",
       "      <td>FILE</td>\n",
       "      <td>8</td>\n",
       "      <td>-10</td>\n",
       "      <td>NCLOB</td>\n",
       "      <td>120</td>\n",
       "      <td>2147483647</td>\n",
       "      <td>NaN</td>\n",
       "      <td>...</td>\n",
       "      <td>False</td>\n",
       "      <td>NaN</td>\n",
       "      <td>False</td>\n",
       "      <td>False</td>\n",
       "      <td>NaN</td>\n",
       "      <td>NaN</td>\n",
       "      <td>NaN</td>\n",
       "      <td>NaN</td>\n",
       "      <td>NaN</td>\n",
       "      <td>NaN</td>\n",
       "    </tr>\n",
       "    <tr>\n",
       "      <th>1</th>\n",
       "      <td>SYS</td>\n",
       "      <td>P_USER_PASSWORD_</td>\n",
       "      <td>131422</td>\n",
       "      <td>ADMIN_GIVEN_PASSWORD</td>\n",
       "      <td>4</td>\n",
       "      <td>-6</td>\n",
       "      <td>TINYINT</td>\n",
       "      <td>97</td>\n",
       "      <td>3</td>\n",
       "      <td>0.0</td>\n",
       "      <td>...</td>\n",
       "      <td>False</td>\n",
       "      <td>NaN</td>\n",
       "      <td>False</td>\n",
       "      <td>False</td>\n",
       "      <td>NaN</td>\n",
       "      <td>NaN</td>\n",
       "      <td>NaN</td>\n",
       "      <td>NaN</td>\n",
       "      <td>NaN</td>\n",
       "      <td>NaN</td>\n",
       "    </tr>\n",
       "    <tr>\n",
       "      <th>2</th>\n",
       "      <td>SYS</td>\n",
       "      <td>ABSTRACT_SQL_PLAN_DATA_</td>\n",
       "      <td>26563578</td>\n",
       "      <td>MIN_EXECUTION_TIME_NOT_USING_ABSTRACT_SQL_PLAN</td>\n",
       "      <td>15</td>\n",
       "      <td>-5</td>\n",
       "      <td>BIGINT</td>\n",
       "      <td>133</td>\n",
       "      <td>19</td>\n",
       "      <td>0.0</td>\n",
       "      <td>...</td>\n",
       "      <td>False</td>\n",
       "      <td>NaN</td>\n",
       "      <td>False</td>\n",
       "      <td>False</td>\n",
       "      <td>NaN</td>\n",
       "      <td>NaN</td>\n",
       "      <td>NaN</td>\n",
       "      <td>NaN</td>\n",
       "      <td>NaN</td>\n",
       "      <td>NaN</td>\n",
       "    </tr>\n",
       "    <tr>\n",
       "      <th>3</th>\n",
       "      <td>SAPD58</td>\n",
       "      <td>CATK</td>\n",
       "      <td>196799</td>\n",
       "      <td>R2MAND</td>\n",
       "      <td>25</td>\n",
       "      <td>-9</td>\n",
       "      <td>NVARCHAR</td>\n",
       "      <td>8</td>\n",
       "      <td>3</td>\n",
       "      <td>NaN</td>\n",
       "      <td>...</td>\n",
       "      <td>False</td>\n",
       "      <td>NaN</td>\n",
       "      <td>False</td>\n",
       "      <td>False</td>\n",
       "      <td>NaN</td>\n",
       "      <td>NaN</td>\n",
       "      <td>NaN</td>\n",
       "      <td>NaN</td>\n",
       "      <td>NaN</td>\n",
       "      <td>NaN</td>\n",
       "    </tr>\n",
       "    <tr>\n",
       "      <th>4</th>\n",
       "      <td>_SYS_STATISTICS</td>\n",
       "      <td>STATISTICS_ALERT_THRESHOLDS_PROFILES</td>\n",
       "      <td>18972719</td>\n",
       "      <td>SEVERITY</td>\n",
       "      <td>3</td>\n",
       "      <td>-6</td>\n",
       "      <td>TINYINT</td>\n",
       "      <td>8</td>\n",
       "      <td>3</td>\n",
       "      <td>0.0</td>\n",
       "      <td>...</td>\n",
       "      <td>False</td>\n",
       "      <td>NaN</td>\n",
       "      <td>False</td>\n",
       "      <td>False</td>\n",
       "      <td>NaN</td>\n",
       "      <td>NaN</td>\n",
       "      <td>NaN</td>\n",
       "      <td>NaN</td>\n",
       "      <td>NaN</td>\n",
       "      <td>NaN</td>\n",
       "    </tr>\n",
       "    <tr>\n",
       "      <th>...</th>\n",
       "      <td>...</td>\n",
       "      <td>...</td>\n",
       "      <td>...</td>\n",
       "      <td>...</td>\n",
       "      <td>...</td>\n",
       "      <td>...</td>\n",
       "      <td>...</td>\n",
       "      <td>...</td>\n",
       "      <td>...</td>\n",
       "      <td>...</td>\n",
       "      <td>...</td>\n",
       "      <td>...</td>\n",
       "      <td>...</td>\n",
       "      <td>...</td>\n",
       "      <td>...</td>\n",
       "      <td>...</td>\n",
       "      <td>...</td>\n",
       "      <td>...</td>\n",
       "      <td>...</td>\n",
       "      <td>...</td>\n",
       "      <td>...</td>\n",
       "    </tr>\n",
       "    <tr>\n",
       "      <th>1119623</th>\n",
       "      <td>SAPD58</td>\n",
       "      <td>/BIC/B0016469000</td>\n",
       "      <td>16223457</td>\n",
       "      <td>RECORD</td>\n",
       "      <td>4</td>\n",
       "      <td>4</td>\n",
       "      <td>INTEGER</td>\n",
       "      <td>8</td>\n",
       "      <td>10</td>\n",
       "      <td>0.0</td>\n",
       "      <td>...</td>\n",
       "      <td>False</td>\n",
       "      <td>NaN</td>\n",
       "      <td>False</td>\n",
       "      <td>False</td>\n",
       "      <td>NaN</td>\n",
       "      <td>NaN</td>\n",
       "      <td>NaN</td>\n",
       "      <td>NaN</td>\n",
       "      <td>NaN</td>\n",
       "      <td>NaN</td>\n",
       "    </tr>\n",
       "    <tr>\n",
       "      <th>1119624</th>\n",
       "      <td>SAPD58</td>\n",
       "      <td>/BIC/B0016469000</td>\n",
       "      <td>16223457</td>\n",
       "      <td>REQUEST</td>\n",
       "      <td>1</td>\n",
       "      <td>-9</td>\n",
       "      <td>NVARCHAR</td>\n",
       "      <td>16</td>\n",
       "      <td>30</td>\n",
       "      <td>NaN</td>\n",
       "      <td>...</td>\n",
       "      <td>False</td>\n",
       "      <td>NaN</td>\n",
       "      <td>False</td>\n",
       "      <td>False</td>\n",
       "      <td>NaN</td>\n",
       "      <td>NaN</td>\n",
       "      <td>NaN</td>\n",
       "      <td>NaN</td>\n",
       "      <td>NaN</td>\n",
       "      <td>NaN</td>\n",
       "    </tr>\n",
       "    <tr>\n",
       "      <th>1119625</th>\n",
       "      <td>SAPD58</td>\n",
       "      <td>/BIC/B0016469000</td>\n",
       "      <td>16223457</td>\n",
       "      <td>TXTLG</td>\n",
       "      <td>9</td>\n",
       "      <td>-9</td>\n",
       "      <td>NVARCHAR</td>\n",
       "      <td>16</td>\n",
       "      <td>60</td>\n",
       "      <td>NaN</td>\n",
       "      <td>...</td>\n",
       "      <td>False</td>\n",
       "      <td>NaN</td>\n",
       "      <td>False</td>\n",
       "      <td>False</td>\n",
       "      <td>NaN</td>\n",
       "      <td>NaN</td>\n",
       "      <td>NaN</td>\n",
       "      <td>NaN</td>\n",
       "      <td>NaN</td>\n",
       "      <td>NaN</td>\n",
       "    </tr>\n",
       "    <tr>\n",
       "      <th>1119626</th>\n",
       "      <td>SAPD58</td>\n",
       "      <td>/BIC/B0016469000</td>\n",
       "      <td>16223457</td>\n",
       "      <td>TXTMD</td>\n",
       "      <td>8</td>\n",
       "      <td>-9</td>\n",
       "      <td>NVARCHAR</td>\n",
       "      <td>16</td>\n",
       "      <td>40</td>\n",
       "      <td>NaN</td>\n",
       "      <td>...</td>\n",
       "      <td>False</td>\n",
       "      <td>NaN</td>\n",
       "      <td>False</td>\n",
       "      <td>False</td>\n",
       "      <td>NaN</td>\n",
       "      <td>NaN</td>\n",
       "      <td>NaN</td>\n",
       "      <td>NaN</td>\n",
       "      <td>NaN</td>\n",
       "      <td>NaN</td>\n",
       "    </tr>\n",
       "    <tr>\n",
       "      <th>1119627</th>\n",
       "      <td>SAPD58</td>\n",
       "      <td>/BIC/B0016469000</td>\n",
       "      <td>16223457</td>\n",
       "      <td>TXTSH</td>\n",
       "      <td>7</td>\n",
       "      <td>-9</td>\n",
       "      <td>NVARCHAR</td>\n",
       "      <td>16</td>\n",
       "      <td>20</td>\n",
       "      <td>NaN</td>\n",
       "      <td>...</td>\n",
       "      <td>False</td>\n",
       "      <td>NaN</td>\n",
       "      <td>False</td>\n",
       "      <td>False</td>\n",
       "      <td>NaN</td>\n",
       "      <td>NaN</td>\n",
       "      <td>NaN</td>\n",
       "      <td>NaN</td>\n",
       "      <td>NaN</td>\n",
       "      <td>NaN</td>\n",
       "    </tr>\n",
       "  </tbody>\n",
       "</table>\n",
       "<p>1119628 rows × 42 columns</p>\n",
       "</div>"
      ],
      "text/plain": [
       "             SCHEMA_NAME                            TABLE_NAME  TABLE_OID  \\\n",
       "0                    SYS                         AFL_PACKAGES_     131325   \n",
       "1                    SYS                      P_USER_PASSWORD_     131422   \n",
       "2                    SYS               ABSTRACT_SQL_PLAN_DATA_   26563578   \n",
       "3                 SAPD58                                  CATK     196799   \n",
       "4        _SYS_STATISTICS  STATISTICS_ALERT_THRESHOLDS_PROFILES   18972719   \n",
       "...                  ...                                   ...        ...   \n",
       "1119623           SAPD58                      /BIC/B0016469000   16223457   \n",
       "1119624           SAPD58                      /BIC/B0016469000   16223457   \n",
       "1119625           SAPD58                      /BIC/B0016469000   16223457   \n",
       "1119626           SAPD58                      /BIC/B0016469000   16223457   \n",
       "1119627           SAPD58                      /BIC/B0016469000   16223457   \n",
       "\n",
       "                                            COLUMN_NAME  POSITION  \\\n",
       "0                                                  FILE         8   \n",
       "1                                  ADMIN_GIVEN_PASSWORD         4   \n",
       "2        MIN_EXECUTION_TIME_NOT_USING_ABSTRACT_SQL_PLAN        15   \n",
       "3                                                R2MAND        25   \n",
       "4                                              SEVERITY         3   \n",
       "...                                                 ...       ...   \n",
       "1119623                                          RECORD         4   \n",
       "1119624                                         REQUEST         1   \n",
       "1119625                                           TXTLG         9   \n",
       "1119626                                           TXTMD         8   \n",
       "1119627                                           TXTSH         7   \n",
       "\n",
       "         DATA_TYPE_ID DATA_TYPE_NAME  OFFSET      LENGTH  SCALE  ...  \\\n",
       "0                 -10          NCLOB     120  2147483647    NaN  ...   \n",
       "1                  -6        TINYINT      97           3    0.0  ...   \n",
       "2                  -5         BIGINT     133          19    0.0  ...   \n",
       "3                  -9       NVARCHAR       8           3    NaN  ...   \n",
       "4                  -6        TINYINT       8           3    0.0  ...   \n",
       "...               ...            ...     ...         ...    ...  ...   \n",
       "1119623             4        INTEGER       8          10    0.0  ...   \n",
       "1119624            -9       NVARCHAR      16          30    NaN  ...   \n",
       "1119625            -9       NVARCHAR      16          60    NaN  ...   \n",
       "1119626            -9       NVARCHAR      16          40    NaN  ...   \n",
       "1119627            -9       NVARCHAR      16          20    NaN  ...   \n",
       "\n",
       "         IS_CACHE_KEY ROW_ORDER_POSITION  IS_HIDDEN IS_MASKED  \\\n",
       "0               False                NaN      False     False   \n",
       "1               False                NaN      False     False   \n",
       "2               False                NaN      False     False   \n",
       "3               False                NaN      False     False   \n",
       "4               False                NaN      False     False   \n",
       "...               ...                ...        ...       ...   \n",
       "1119623         False                NaN      False     False   \n",
       "1119624         False                NaN      False     False   \n",
       "1119625         False                NaN      False     False   \n",
       "1119626         False                NaN      False     False   \n",
       "1119627         False                NaN      False     False   \n",
       "\n",
       "         MASK_EXPRESSION  CLIENTSIDE_ENCRYPTION_STATUS  \\\n",
       "0                    NaN                           NaN   \n",
       "1                    NaN                           NaN   \n",
       "2                    NaN                           NaN   \n",
       "3                    NaN                           NaN   \n",
       "4                    NaN                           NaN   \n",
       "...                  ...                           ...   \n",
       "1119623              NaN                           NaN   \n",
       "1119624              NaN                           NaN   \n",
       "1119625              NaN                           NaN   \n",
       "1119626              NaN                           NaN   \n",
       "1119627              NaN                           NaN   \n",
       "\n",
       "         CLIENTSIDE_ENCRYPTION_COLUMN_KEY_ID CLIENTSIDE_ENCRYPTION_MODE  \\\n",
       "0                                        NaN                        NaN   \n",
       "1                                        NaN                        NaN   \n",
       "2                                        NaN                        NaN   \n",
       "3                                        NaN                        NaN   \n",
       "4                                        NaN                        NaN   \n",
       "...                                      ...                        ...   \n",
       "1119623                                  NaN                        NaN   \n",
       "1119624                                  NaN                        NaN   \n",
       "1119625                                  NaN                        NaN   \n",
       "1119626                                  NaN                        NaN   \n",
       "1119627                                  NaN                        NaN   \n",
       "\n",
       "         PERSISTENT_MEMORY NUMA_NODE_INDEXES  \n",
       "0                      NaN               NaN  \n",
       "1                      NaN               NaN  \n",
       "2                      NaN               NaN  \n",
       "3                      NaN               NaN  \n",
       "4                      NaN               NaN  \n",
       "...                    ...               ...  \n",
       "1119623                NaN               NaN  \n",
       "1119624                NaN               NaN  \n",
       "1119625                NaN               NaN  \n",
       "1119626                NaN               NaN  \n",
       "1119627                NaN               NaN  \n",
       "\n",
       "[1119628 rows x 42 columns]"
      ]
     },
     "execution_count": 34,
     "metadata": {},
     "output_type": "execute_result"
    }
   ],
   "source": [
    "%%time\n",
    "df_col_tables"
   ]
  },
  {
   "cell_type": "markdown",
   "id": "a5cbec54-f0e6-4ab8-b698-6699ca1a8f1c",
   "metadata": {},
   "source": [
    "# load using multi Threath"
   ]
  },
  {
   "cell_type": "code",
   "execution_count": 52,
   "id": "d136a276-21ff-4aed-96fa-0c72df6af50d",
   "metadata": {},
   "outputs": [],
   "source": [
    "s_pathFile = \"../datos/sap/SAPX58_TPFET.csv\""
   ]
  },
  {
   "cell_type": "code",
   "execution_count": null,
   "id": "4a3ae750-d347-44bc-8096-4de3f294d87e",
   "metadata": {},
   "outputs": [],
   "source": [
    "from multiprocessing.pool import ThreadPool as Pool\n",
    "from random import randint\n",
    "from time import sleep\n",
    "\n",
    "\n",
    "def process_line(l):\n",
    "    print (l, \"started\")\n",
    "    sleep(randint(0, 3))\n",
    "    print (l, \"done\")\n",
    "\n",
    "\n",
    "def get_next_line():\n",
    "    with open(s_pathFile, 'r') as f:\n",
    "        for line in f:\n",
    "            yield line\n",
    "\n",
    "f = get_next_line()\n",
    "t = Pool(processes=8)\n",
    "\n",
    "for i in f:\n",
    "    t.map(process_line, (i,))\n",
    "t.close()\n",
    "t.join()"
   ]
  },
  {
   "cell_type": "code",
   "execution_count": null,
   "id": "2152326c-d35d-42d3-8f6d-fcb4513de3cb",
   "metadata": {},
   "outputs": [],
   "source": []
  },
  {
   "cell_type": "code",
   "execution_count": null,
   "id": "2740e22c-efd1-472a-87c8-0da4d4923d1e",
   "metadata": {},
   "outputs": [],
   "source": []
  }
 ],
 "metadata": {
  "kernelspec": {
   "display_name": "Python 3 (ipykernel)",
   "language": "python",
   "name": "python3"
  },
  "language_info": {
   "codemirror_mode": {
    "name": "ipython",
    "version": 3
   },
   "file_extension": ".py",
   "mimetype": "text/x-python",
   "name": "python",
   "nbconvert_exporter": "python",
   "pygments_lexer": "ipython3",
   "version": "3.11.4"
  }
 },
 "nbformat": 4,
 "nbformat_minor": 5
}
